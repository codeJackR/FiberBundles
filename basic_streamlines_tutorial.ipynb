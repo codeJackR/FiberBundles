{
 "cells": [
  {
   "cell_type": "code",
   "execution_count": null,
   "metadata": {},
   "outputs": [],
   "source": []
  },
  {
   "cell_type": "code",
   "execution_count": 13,
   "metadata": {},
   "outputs": [],
   "source": [
    "import numpy as np\n",
    "from dipy.io.streamline import load_trk\n",
    "from dipy.viz import window, actor\n",
    "from dipy.tracking.streamline import Streamlines\n",
    "import math"
   ]
  },
  {
   "cell_type": "code",
   "execution_count": 14,
   "metadata": {},
   "outputs": [],
   "source": [
    "def show_streamlines(streamlines): #function to visualize streamlines\n",
    "    \n",
    "    ren = window.Renderer()\n",
    "    ren.add(actor.line(streamlines))\n",
    "    window.show(ren)"
   ]
  },
  {
   "cell_type": "code",
   "execution_count": 15,
   "metadata": {},
   "outputs": [],
   "source": [
    "def show_multiple_streamlines(streamline1,streamline2): #function to visualize streamlines\n",
    "    \n",
    "    ren = window.Renderer()\n",
    "    ren.add(actor.line(streamline1))\n",
    "    ren.add(actor.line(streamline2,colors=(0,1,1)))\n",
    "    window.show(ren)"
   ]
  },
  {
   "cell_type": "markdown",
   "metadata": {},
   "source": [
    " load brain (tractogram)"
   ]
  },
  {
   "cell_type": "code",
   "execution_count": 16,
   "metadata": {},
   "outputs": [],
   "source": [
    "brain, b_hr = load_trk(\"brain.trk\")"
   ]
  },
  {
   "cell_type": "markdown",
   "metadata": {},
   "source": [
    "load Arcuate Fasciculus left fiber bundle (AF_L)"
   ]
  },
  {
   "cell_type": "code",
   "execution_count": 17,
   "metadata": {},
   "outputs": [],
   "source": [
    "bundle, bn_hr = load_trk(\"AF_L.trk\")"
   ]
  },
  {
   "cell_type": "code",
   "execution_count": 18,
   "metadata": {},
   "outputs": [],
   "source": [
    "#cst, bn_hr = load_trk(\"CST_recognized.trk\")"
   ]
  },
  {
   "cell_type": "markdown",
   "metadata": {},
   "source": [
    "let's visualize them"
   ]
  },
  {
   "cell_type": "code",
   "execution_count": 19,
   "metadata": {},
   "outputs": [],
   "source": [
    "# first brain\n",
    "\n",
    "#show_streamlines(brain)"
   ]
  },
  {
   "cell_type": "code",
   "execution_count": 20,
   "metadata": {},
   "outputs": [
    {
     "name": "stderr",
     "output_type": "stream",
     "text": [
      "/Users/rp7/anaconda3/lib/python3.6/site-packages/vtk/util/numpy_support.py:137: FutureWarning: Conversion of the second argument of issubdtype from `complex` to `np.complexfloating` is deprecated. In future, it will be treated as `np.complex128 == np.dtype(complex).type`.\n",
      "  assert not numpy.issubdtype(z.dtype, complex), \\\n"
     ]
    }
   ],
   "source": [
    "# now bundle\n",
    "\n",
    "show_streamlines(bundle[:50])"
   ]
  },
  {
   "cell_type": "code",
   "execution_count": 21,
   "metadata": {},
   "outputs": [
    {
     "data": {
      "text/plain": [
       "(331, 3)"
      ]
     },
     "execution_count": 21,
     "metadata": {},
     "output_type": "execute_result"
    }
   ],
   "source": [
    "(bundle[0].shape)"
   ]
  },
  {
   "cell_type": "code",
   "execution_count": 52,
   "metadata": {},
   "outputs": [],
   "source": [
    "from sklearn.decomposition import PCA\n",
    "def project2D(streamline):\n",
    "    pca = PCA(n_components=2)\n",
    "    newBundle = pca.fit_transform(streamline)\n",
    "    newStreamline = Streamlines([(np.hstack((newBundle,np.zeros((newBundle.shape[0])).reshape((-1,1)))))])\n",
    "    return newStreamline, pca.explained_variance_ratio_, pca.singular_values_"
   ]
  },
  {
   "cell_type": "code",
   "execution_count": 53,
   "metadata": {},
   "outputs": [],
   "source": [
    "# print(pca.explained_variance_ratio_) \n",
    "# print(pca.singular_values_)"
   ]
  },
  {
   "cell_type": "code",
   "execution_count": 101,
   "metadata": {},
   "outputs": [],
   "source": [
    "# st = Streamlines([newBundle])\n",
    "def convertToAngles(streamline2D):\n",
    "    streamline2D = np.array(streamline2D)\n",
    "#     print((streamline2D))\n",
    "    angles = np.zeros(streamline2D.shape[0])\n",
    "    angles[0] = 1\n",
    "#     print(streamline2D.shape)\n",
    "    # handle the direction of start\n",
    "#     print(streamline2D.shape)\n",
    "    for point in range(1,streamline2D.shape[0]):\n",
    "#         print(point)\n",
    "        diff = streamline2D[point] - streamline2D[point-1]\n",
    "#         print(streamline2D[point], streamline2D[point-1])\n",
    "        angles[point] = math.degrees(math.atan(diff[1]/diff[0]))\n",
    "    return angles\n"
   ]
  },
  {
   "cell_type": "code",
   "execution_count": 102,
   "metadata": {},
   "outputs": [],
   "source": [
    "def getData1D(bundle):\n",
    "    angularData = []\n",
    "    for index in range(len(bundle)):\n",
    "        newStreamline, varRatio, singVal = project2D(np.array(bundle[index]))\n",
    "#         print(np.array(bundle[index]))\n",
    "        # append these values to store them \n",
    "#         print(len(newStreamline))\n",
    "        streamlineAsAngle = convertToAngles(newStreamline[0])\n",
    "#         print(streamlineAsAngle)\n",
    "        angularData.append(streamlineAsAngle)\n",
    "    \n",
    "    return angularData"
   ]
  },
  {
   "cell_type": "code",
   "execution_count": 103,
   "metadata": {
    "scrolled": true
   },
   "outputs": [
    {
     "name": "stderr",
     "output_type": "stream",
     "text": [
      "/Users/rp7/anaconda3/lib/python3.6/site-packages/ipykernel_launcher.py:14: RuntimeWarning: divide by zero encountered in double_scalars\n",
      "  \n"
     ]
    },
    {
     "data": {
      "text/plain": [
       "(331, 3)"
      ]
     },
     "execution_count": 103,
     "metadata": {},
     "output_type": "execute_result"
    }
   ],
   "source": [
    "bundle1D = getData1D(bundle)\n",
    "bundle[0].shape\n",
    "# show_multiple_streamlines(newStreamline,bundle[0:1])"
   ]
  },
  {
   "cell_type": "code",
   "execution_count": 106,
   "metadata": {},
   "outputs": [
    {
     "data": {
      "text/plain": [
       "[array([  1.        ,  53.32359521,  53.33113633,  53.3288899 ,\n",
       "         53.32808735,  53.32871864,  53.32934992,  53.3290074 ,\n",
       "         53.32871864,  53.32946742,  53.32825862,  53.3288899 ,\n",
       "         53.04552886,  53.04478634,  53.0452436 ,  53.04561486,\n",
       "         53.04495835,  53.0452436 ,  53.0453296 ,  64.42670542,\n",
       "         64.42604244,  64.42783939,  64.42569948,  58.38867608,\n",
       "         58.38733654,  58.38773058,  58.38836086,  58.38757297,\n",
       "         58.38749416,  58.38910944,  58.38757297,  58.82710075,\n",
       "         58.82611009,  58.10189255,  58.10328176,  58.10328176,\n",
       "         58.10245694,  58.10320577,  58.10279336,  58.10245694,\n",
       "         58.10324377,  58.10275536,  58.10343375,  52.15767447,\n",
       "         52.15802645,  52.15884464,  52.15798245,  52.15830355,\n",
       "         52.15839154,  52.15793845,  52.15752937,  52.15884464,\n",
       "         52.15789446,  52.15789446,  48.33740095,  48.33680751,\n",
       "         48.33633286,  48.33740095,  48.33680751,  50.99874673,\n",
       "         50.99861096,  50.99781862,  50.9985657 ,  50.99873542,\n",
       "         48.93327017,  47.95315358,  47.9540354 ,  47.95269473,\n",
       "         47.9540988 ,  47.95368806,  47.95317497,  47.95357807,\n",
       "         47.95337346,  47.95390489,  47.95293982,  47.953856  ,\n",
       "         48.09061621,  48.090592  ,  48.09008778,  48.09061621,\n",
       "         48.09083201,  48.09027936,  48.09061621,  48.09040042,\n",
       "         48.09104781,  48.09008778,  48.09030357,  44.88144116,\n",
       "         44.88241453,  22.33049905,  22.33056503,  22.33056503,\n",
       "         22.33104574,  22.33028225,  22.33102219,  22.33028225,\n",
       "         22.33073941,  32.11613212,  32.11652697,  32.11601123,\n",
       "         32.11616299,  32.11643565,  32.1160421 ,  -3.12596876,\n",
       "         -3.12577446,  -3.12600033,  -3.12603189,  -3.12571134,\n",
       "         -3.12603189,  -3.12600033,  -3.1257429 ,  -3.12617639,\n",
       "         -3.12587161,  -3.12587161,  -8.13559488,  -8.13544869,\n",
       "         -8.13549049,  -8.1353443 ,  -8.13567847,  -8.13556358,\n",
       "         -8.1353338 ,  -8.13556358,  -8.13544869,  -8.13548009,\n",
       "         -0.28780342,  -0.28728064,  -0.28750329,  -0.28757927,\n",
       "         -0.287656  ,  -0.28742882,  -0.28750405,  -0.28750556,\n",
       "         -0.28757851,  -0.2875048 ,  -0.28750556,  -0.28757927,\n",
       "          9.00219871,   9.00224435,   9.0021495 ,   9.00229356,\n",
       "          9.0021495 ,   9.00224435,   9.00222153,   9.00223294,\n",
       "          9.00208888,   9.00221012,  17.18462718,  17.18407391,\n",
       "         25.21010496,  25.20991515,  25.20997591,  25.20991515,\n",
       "         22.52178786,  22.52149194,  22.52184254,  22.52172434,\n",
       "         22.52142358,  22.52171066,  22.5214646 ,  22.52191089,\n",
       "         22.52166482,  22.52159446,   4.9775397 ,   4.9774863 ,\n",
       "          4.97782364,   4.97748705,   4.97756487,   4.97779694,\n",
       "          4.97751339,   4.97764162,   4.9775397 ,   4.97751184,\n",
       "        -12.71530131, -12.7154426 , -12.71517001, -12.71541905,\n",
       "        -12.71516216, -12.71543475, -12.71521711, -12.7154954 ,\n",
       "        -12.71518571, -12.7155896 ,  -5.2090577 ,  -5.20925203,\n",
       "         -5.20936847,  -5.20921958,  -5.20925852,  -5.20920659,\n",
       "         -5.2094204 ,  -5.20921308,  -5.20925203,  -5.20907068,\n",
       "        -11.59127198, -11.59130066, -11.59096367, -11.59138312,\n",
       "        -11.59124331, -11.59135802, -11.59101746, -11.59113217,\n",
       "        -11.59146916, -11.59104614, -14.04240034, -14.04212358,\n",
       "        -14.04233114, -14.04208903, -14.04246949, -14.04219278,\n",
       "        -14.04219278, -14.04226199, -14.04233114, -14.04212358,\n",
       "        -17.14919253, -17.14971779, -17.1490242 , -17.14941308,\n",
       "        -17.14949725, -17.14932891, -17.14934489, -17.14948127,\n",
       "        -17.14919253, -17.14949725, -22.29072605, -22.29090039,\n",
       "        -22.29105093, -22.29079209, -22.29081055, -22.29100868,\n",
       "        -22.29100868, -22.29079209, -22.29140493, -22.29147097,\n",
       "        -23.18912408, -23.18918963, -23.18918963, -23.18889945,\n",
       "        -23.18925518, -23.18907731, -23.18912408, -23.18907731,\n",
       "        -23.18912408, -23.18925518, -23.18893222, -21.89853113,\n",
       "        -21.89835536, -21.89836263, -21.89832166, -21.89844919,\n",
       "        -21.89842276, -21.89837452, -21.8985047 , -21.89842276,\n",
       "        -21.89837452, -31.39056683, -31.39067467, -31.39085224,\n",
       "        -31.39056683, -31.39072089, -31.39055142, -31.39096008,\n",
       "        -31.39056683, -31.39067467, -31.39057068, -29.8323929 ,\n",
       "        -29.83148546, -29.83196405, -29.83194961, -29.8318632 ,\n",
       "        -29.8319894 , -29.8319275 , -29.83198377, -29.83197332,\n",
       "        -29.83177479, -61.04345161, -61.04334749, -61.04394477,\n",
       "        -61.04281962, -61.04439455, -61.04281962, -61.04389271,\n",
       "        -61.0429411 , -61.043858  , -61.04342558, -61.04339087,\n",
       "        -68.12139475, -68.12195394, -84.26338785, -84.26338785,\n",
       "        -87.15930077, -87.15986649, -87.16043221, -87.16043221,\n",
       "        -87.15873861, -87.15986294, -87.15987004, -87.16043577,\n",
       "        -87.15987004, -87.16043577, -87.15929011, -87.15986294,\n",
       "        -87.15929722,  87.13624367,  87.13681529,  87.13740918,\n",
       "         87.13622139,  87.13743145,  87.13623624,  87.13741661,\n",
       "         87.13683014,  87.13622139,  87.13740918,  81.18798068,\n",
       "         81.18692099,  81.18753042,  81.18685277,  81.18938142,\n",
       "         82.75896988,  82.76092757,  82.76224622,  82.75964951,\n",
       "         82.76024795,  82.09967251,  82.0983791 ,  82.09971738,\n",
       "         82.09898093,  82.0977324 ,  82.0990258 ,  82.0990258 ,\n",
       "         82.09833422,  82.09967251,  82.0970857 ]),\n",
       " array([  1.        ,  40.12182655,  40.07697851,  40.07590561,\n",
       "         40.07211162,  40.073239  ,  40.07246955,  40.07457224,\n",
       "         40.07267531,  40.07569962,  44.71232453,  44.71389658,\n",
       "         44.7143135 ,  44.71508372,  44.71469859,  39.40947944,\n",
       "         39.4111037 ,  39.41174284,  39.41243843,  39.40895694,\n",
       "         39.41296108,  39.41162629,  39.41081414,  39.41203236,\n",
       "         39.41162629,  39.68538004,  39.68770779,  39.68576801,\n",
       "         39.68615597,  31.41930166,  31.42066598,  31.41873899,\n",
       "         31.41932369,  31.42044908,  31.41954062,  31.42047108,\n",
       "         31.42008128,  31.42068797,  31.42008128,  31.42105578,\n",
       "         38.57756839,  38.57668874,  38.57750133,  38.57721653,\n",
       "         38.57862394,  29.92925364,  29.93024694,  29.92811007,\n",
       "         29.93051267,   7.75572756,   7.75597186,   7.75666091,\n",
       "          7.75646044,   5.78692642,   5.78648461,   5.78663624,\n",
       "          5.78668242,   5.78595042,   5.78614823,   5.78717042,\n",
       "          5.78643843,   5.78688025,   5.78595042,   5.78692642,\n",
       "          5.7869726 ,  21.47378626,   1.91290896,   1.91146414,\n",
       "          1.91218655,   1.91149629,   1.91098254,   1.91335838,\n",
       "          1.91149629,   1.91191359,   1.910806  ,   1.91263599,\n",
       "          1.91260382,  11.14530606,  11.14516854,  11.14453928,\n",
       "         11.14617398,  11.14530606,  11.1446911 ,  11.14554479,\n",
       "         11.14540725,  11.14530606,  11.14569656,  11.14458989,\n",
       "         11.14540725,  37.54310078,  37.5460031 ,  37.54515799,\n",
       "         37.54337239,  31.52569365,  31.52508791,  31.52541369,\n",
       "         31.52519708,  31.52499458,  31.52560033,  31.52535204,\n",
       "         31.52508791,  31.52510375,  31.52525872,  31.52560033,\n",
       "         31.02168127,  31.02191436,  31.71891365,  31.71922366,\n",
       "         31.71879101,  31.7181914 ,  31.71946216,  32.41758672,\n",
       "         32.41721589,  32.41758672,  32.41741097,  32.41758188,\n",
       "         32.41716536,  32.41752168,  32.41758672,  32.41716536,\n",
       "         32.41782749,  41.15509785,  41.15531933,  41.15570651,\n",
       "         41.15476604,  41.15520901,  41.15559536,  41.15531975,\n",
       "         41.15487679,  41.15548544,  41.15531933,  38.47818945,\n",
       "         38.47882274,  38.47810525,  38.47839762,  38.47852159,\n",
       "         38.47804327,  38.47873853,  38.47804327,  38.47889348,\n",
       "         38.4781187 ,  38.76479933,  38.76541152,  38.76559798,\n",
       "         38.76519934,  38.76464778,  38.76519636,  38.7658275 ,\n",
       "         38.7648107 ,  38.76521355,  38.76542573,  38.53456951,\n",
       "         38.53354137,  38.53418377,  38.53418353,  38.5343246 ,\n",
       "         38.53381543,  38.53414458,  38.53499052,  38.53391707,\n",
       "         38.53376081,  37.97010157,  37.97047074,  37.96976315,\n",
       "         37.96962511,  37.96987123,  37.97054727,  37.9700708 ,\n",
       "         37.96993276,  37.96953282,  37.97048574,  35.51837387,\n",
       "         35.51729875,  35.51862074,  35.51806529,  35.51789803,\n",
       "         35.51837387,  35.51789803,  35.51820661,  35.51794185,\n",
       "         30.90165085,  30.90131721,  30.90190691,  30.90101069,\n",
       "         30.90171486,  30.90144524,  30.90182934,  30.90149759,\n",
       "         30.90144524,  30.90165085,  34.13839573,  34.13839573,\n",
       "         34.13814933,  34.13839573,  34.13856279,  34.13822867,\n",
       "         34.13843959,  34.13843959,  34.13868599,  34.13802614,\n",
       "         25.44186602,  25.44134522,  25.44108482,  25.44173582,\n",
       "         25.44147542,  25.44159298,  25.44147542,  25.4414691 ,\n",
       "         25.44173582,  25.4410785 ,  21.75597478,  21.7557337 ,\n",
       "         21.75586777,  21.7557337 ,  21.75576076,  21.75584071,\n",
       "         21.75549263,  21.7560289 ,  21.7557337 ,  21.75559963,\n",
       "         21.75576076,  21.75581365,  18.82908343,  18.82968188,\n",
       "         18.82972503,  19.81181014,  19.8117116 ,  19.81167337,\n",
       "         19.81157483,  19.81184837,  19.81102776,  19.81167337,\n",
       "         17.47907969,  17.47857194,  17.47843206,  17.47893981,\n",
       "         17.47847611,  17.47885171,  17.47861599,  17.47857194,\n",
       "         17.47838027,  17.47866778,  19.17831119,  19.1783953 ,\n",
       "         19.17793875,  19.17826313,  19.17821508,  19.17771047,\n",
       "         19.17821508,  19.17761436,  19.17844335,  19.17803486,\n",
       "         17.58091963,  17.58021759,  17.58072967,  17.58045161,\n",
       "         17.58068562,  17.58077373,  17.58070765,  17.58068562,\n",
       "         17.58045161,  17.58038553,   7.99208429,  12.67958931,\n",
       "         12.67895287,  12.67958931,  12.67867591,  12.6795563 ,\n",
       "         12.67929585,  12.67926284,  12.67927934,  12.67926284,\n",
       "         12.67929585,  14.92809125,  14.92837965,  14.9281145 ,\n",
       "         14.92809357,  14.92867038,  14.9280866 ,  14.92867503,\n",
       "         14.92783307,  14.92836803,  14.92839128,  14.92840756,\n",
       "          8.97962587,   8.97991348,   8.97991906,   8.97990791,\n",
       "          8.97963701,   8.97990791,   8.97991348,   8.97963701,\n",
       "          3.15519617,   3.15463032,   3.15549283,   0.53365056,\n",
       "          0.53393776,   1.47814927,   1.47844577,   1.4778675 ,\n",
       "          1.47844024,   1.47758389,   1.47844393,   1.47843656,\n",
       "          1.47844393,   1.47786934,   1.47844024,   1.47815479,\n",
       "          9.55768273,  -6.20945782,  -6.20889899,  -6.20952032,\n",
       "         -6.21003226,  -6.20893024,  -6.20976067,  -6.20918622,\n",
       "         -6.20977629,  -6.20920184,  -6.20947344,  -6.20918622,\n",
       "         -6.21007914,  -6.20859614,   1.77024581,   1.77080776,\n",
       "         -5.01736006,  -5.01707464,  -5.01733501,  -5.01733501,\n",
       "         -5.01707464,  -5.01676416,  -5.01767055,  -5.01678922,\n",
       "         -5.01730995,  -5.01738512,  -5.01702453,  -5.0170997 ,\n",
       "         -6.31295355,  -6.31266615,  -6.31269794, -17.38302373,\n",
       "        -17.38311371, -17.38368857, -17.38244887, -17.38322118,\n",
       "        -17.38302373, -17.38320369, -17.38322118, -17.38377856,\n",
       "        -17.38207146, -24.86327113, -24.86312256, -28.93725326,\n",
       "        -28.93778035, -28.93821749, -28.93792607, -28.93795395,\n",
       "        -28.93818961, -28.93713542, -28.93807178, -28.93807178,\n",
       "        -28.93836321, -36.23353842, -36.37803495, -36.37950708,\n",
       "        -36.37873952, -36.37868293, -36.38004189, -36.37856338,\n",
       "        -36.37968323, -36.37856338, -36.37891567, -36.37903522,\n",
       "        -36.37927433, -36.37950708, -37.88967376, -51.65361153,\n",
       "        -51.65279632, -51.65306637, -51.65325147, -51.6534315 ,\n",
       "        -51.65306637, -51.65297635, -51.65379665, -51.65288633,\n",
       "        -51.65361153, -51.65288633, -51.65297635, -44.88638733,\n",
       "        -44.88607191, -44.88596621, -44.88607191, -44.88607191,\n",
       "        -44.88565079, -50.70785722, -50.70814355, -50.70636208,\n",
       "        -50.70697181, -50.70865785, -50.70719976, -47.10476902,\n",
       "        -47.1031308 , -47.10471817, -47.10456564, -47.10367027,\n",
       "        -47.10471817, -47.1045148 , -47.10279472, -47.10476902,\n",
       "        -47.10510512, -47.10307996, -47.10471817, -46.62432576,\n",
       "        -46.62606139, -56.10776386, -56.10799412, -56.10822056,\n",
       "        -56.10776386, -56.10773246, -56.10851362, -56.10772199,\n",
       "        -56.10774292, -56.10834093, -56.10788684, -49.25474069,\n",
       "        -49.25626806, -49.25428599, -49.25508267, -49.25502267,\n",
       "        -49.25552837, -49.25428899, -49.25585235, -49.25549238,\n",
       "        -46.91772533, -46.91917171, -46.91806727, -46.91846073,\n",
       "        -51.2426358 , -51.24326464, -51.24212081, -51.24261334,\n",
       "        -51.24225557, -51.24337538, -51.24283793, -51.24221065,\n",
       "        -51.24265826, -51.24292776, -51.24221065, -46.51554502,\n",
       "        -46.51663978, -46.51539484, -46.51594548, -52.1534055 ,\n",
       "        -52.15394152, -52.15496396, -52.15394152, -52.15450402,\n",
       "        -52.1534055 , -52.15386542, -52.15330293, -49.52346408,\n",
       "        -49.52133303, -49.5216943 , -49.52329875, -49.52094107,\n",
       "        -49.52264351, -49.52339673, -49.52130235, -49.52320077,\n",
       "        -49.52290681, -49.52179229, -39.73605025, -39.73613461,\n",
       "        -35.68963239, -35.68701547, -35.68872151, -38.67285722,\n",
       "        -38.67438272, -38.67249415, -38.67387422, -38.67222771,\n",
       "        -38.67525431, -38.67201003, -38.51226301, -38.51266423,\n",
       "        -38.5103262 , -38.51188488, -38.5109795 , -38.51123159,\n",
       "        -38.51293941, -38.51163279, -38.51163279, -38.5107274 ,\n",
       "        -38.51289322, -36.90488727, -36.90636282, -21.53105153,\n",
       "        -21.52940279, -21.5306936 , -21.52969836, -21.52986922,\n",
       "        -21.53164267, -21.52940279, -21.53063125, -21.52999393,\n",
       "        -21.52969836, -21.5313471 , -21.5301648 ,  -4.36170171,\n",
       "         -4.36213382,  -4.36213382,  -4.81201378,  -4.81242387,\n",
       "         -4.81232056,  -4.81273065,  -4.81211708,  -4.81232056,\n",
       "         -4.81334422,  -4.81262733,  -4.8118103 ,  -4.81242387,\n",
       "         -4.81232056,  -4.81201378,  -2.55644401,  -2.55668544,\n",
       "         -2.55609759,  -2.55644401,  -2.55668544,  -2.55580367,\n",
       "          0.69844104,   0.7002591 ,   0.69874654,   0.7002591 ,\n",
       "          0.69873164,   4.3181196 ,   4.31853344,   4.31693372,\n",
       "          4.31853344,   4.31803006,   4.31723019,   3.72954933,\n",
       "          3.72876276,   3.72855047,   3.72868791,   3.72883762,\n",
       "          3.72732703,  -2.19772527,  -2.20156518,  -2.19889297,\n",
       "         -2.20161007,  -2.19855622,  -2.20127325,  -2.19922974,\n",
       "         -2.20122837,  -2.19976874,  -2.20073426,  -2.20064452,\n",
       "         -2.1998136 ])]"
      ]
     },
     "execution_count": 106,
     "metadata": {},
     "output_type": "execute_result"
    }
   ],
   "source": [
    "bundle1D[0:2]"
   ]
  },
  {
   "cell_type": "code",
   "execution_count": null,
   "metadata": {},
   "outputs": [],
   "source": [
    "# show_streamlines(np.hstack((newBundle,np.zeros((newBundle.shape[0])).reshape((-1,1)))))"
   ]
  },
  {
   "cell_type": "code",
   "execution_count": null,
   "metadata": {},
   "outputs": [],
   "source": [
    "#show_streamlines(cst)"
   ]
  },
  {
   "cell_type": "code",
   "execution_count": null,
   "metadata": {},
   "outputs": [],
   "source": [
    "#show_multiple_streamlines(bundle,cst)"
   ]
  },
  {
   "cell_type": "markdown",
   "metadata": {},
   "source": [
    "let's see its data type"
   ]
  },
  {
   "cell_type": "code",
   "execution_count": null,
   "metadata": {},
   "outputs": [],
   "source": [
    "#bundle # whole bundle, made of several streamlines"
   ]
  },
  {
   "cell_type": "code",
   "execution_count": null,
   "metadata": {},
   "outputs": [],
   "source": [
    "# ((brain)[0]).shape# number of streamlines in bundle"
   ]
  },
  {
   "cell_type": "code",
   "execution_count": null,
   "metadata": {},
   "outputs": [],
   "source": [
    "# bundle[1] #one streamline in bundle\n",
    "# (np.array(bundle)[0]).shape\n",
    "# np.array(bundle)"
   ]
  },
  {
   "cell_type": "code",
   "execution_count": null,
   "metadata": {},
   "outputs": [],
   "source": [
    "# (bundle[1].shape) #one point on one streamline"
   ]
  },
  {
   "cell_type": "code",
   "execution_count": null,
   "metadata": {},
   "outputs": [],
   "source": [
    "npbrain = np.array(brain)"
   ]
  },
  {
   "cell_type": "code",
   "execution_count": null,
   "metadata": {},
   "outputs": [],
   "source": [
    "# npbrain[0].shape"
   ]
  },
  {
   "cell_type": "code",
   "execution_count": null,
   "metadata": {},
   "outputs": [],
   "source": [
    "# len(bundle)"
   ]
  },
  {
   "cell_type": "markdown",
   "metadata": {},
   "source": [
    "these are x, y and z co-ordinates of the point"
   ]
  },
  {
   "cell_type": "code",
   "execution_count": null,
   "metadata": {},
   "outputs": [],
   "source": [
    "# set labels\n",
    "labels = np.zeros(len(brain))\n",
    "for i in range(len(bundle)):\n",
    "    for j in range(len(brain)):\n",
    "        if((npbrain[j].shape[0]==bundle[i].shape[0])):\n",
    "#         print(i,j)\n",
    "            if np.allclose(npbrain[j], bundle[i]):\n",
    "                labels[j] = 1\n",
    "                break\n",
    "    if(i%100==0):\n",
    "        print(i,end=\" \")\n",
    "                "
   ]
  },
  {
   "cell_type": "code",
   "execution_count": null,
   "metadata": {},
   "outputs": [],
   "source": [
    "# npbrain[0].shape"
   ]
  },
  {
   "cell_type": "code",
   "execution_count": null,
   "metadata": {},
   "outputs": [],
   "source": [
    "n_pts = [len(streamline) for streamline in bundle]"
   ]
  },
  {
   "cell_type": "code",
   "execution_count": null,
   "metadata": {},
   "outputs": [],
   "source": [
    "from dipy.tracking.streamline import (set_number_of_points, nbytes,select_random_set_of_streamlines)\n",
    "newStreamlines = set_number_of_points(bundle,101)\n",
    "n_pts_ds = [len(streamline) for streamline in newStreamlines]"
   ]
  },
  {
   "cell_type": "code",
   "execution_count": null,
   "metadata": {},
   "outputs": [],
   "source": [
    "newBrain = set_number_of_points(brain,101)"
   ]
  },
  {
   "cell_type": "code",
   "execution_count": null,
   "metadata": {},
   "outputs": [],
   "source": [
    "# newBrain[0].shape"
   ]
  },
  {
   "cell_type": "code",
   "execution_count": null,
   "metadata": {},
   "outputs": [],
   "source": [
    "# len(npbrain)"
   ]
  },
  {
   "cell_type": "code",
   "execution_count": null,
   "metadata": {},
   "outputs": [],
   "source": [
    "import tensorflow as tf\n",
    "import keras"
   ]
  },
  {
   "cell_type": "code",
   "execution_count": null,
   "metadata": {},
   "outputs": [],
   "source": [
    "# ==========\n",
    "#   MODEL\n",
    "# ==========\n",
    "\n",
    "# Parameters\n",
    "learning_rate = 0.02\n",
    "training_steps = 70\n",
    "batch_size = 100\n",
    "display_step = 200\n",
    "\n",
    "# Network Parameters\n",
    "seq_max_len = 1000 # Sequence max length\n",
    "n_hidden = 64 # hidden layer num of features\n",
    "n_classes = 2 # linear sequence or not\n",
    "\n",
    "trainset = npbrain[1950:2050]\n",
    "testset = labels[1950:2050]\n",
    "\n",
    "# tf Graph input\n",
    "x = tf.placeholder(\"float\", [None, seq_max_len, 3])\n",
    "y = tf.placeholder(\"float\", [None, n_classes])\n",
    "# A placeholder for indicating each sequence length\n",
    "seqlen = tf.placeholder(tf.int32, [None])\n",
    "\n",
    "# Define weights\n",
    "weights = {\n",
    "    'out': tf.Variable(tf.random_normal([n_hidden, n_classes]))\n",
    "}\n",
    "biases = {\n",
    "    'out': tf.Variable(tf.random_normal([n_classes]))\n",
    "}"
   ]
  },
  {
   "cell_type": "code",
   "execution_count": null,
   "metadata": {},
   "outputs": [],
   "source": [
    "def dynamicRNN(x, seqlen, weights, biases):\n",
    "    # Prepare data shape to match `rnn` function requirements\n",
    "    # Current data input shape: (batch_size, n_steps, n_input)\n",
    "    # Required shape: 'n_steps' tensors list of shape (batch_size, n_input)\n",
    "    \n",
    "    # Unstack to get a list of 'n_steps' tensors of shape (batch_size, n_input)\n",
    "    x = tf.unstack(x, seq_max_len, 1)\n",
    "\n",
    "    # Define a lstm cell with tensorflow\n",
    "    lstm_cell = tf.contrib.rnn.BasicLSTMCell(n_hidden)\n",
    "\n",
    "    # Get lstm cell output, providing 'sequence_length' will perform dynamic\n",
    "    # calculation.\n",
    "    outputs, states = tf.contrib.rnn.static_rnn(lstm_cell, x, dtype=tf.float32,\n",
    "                                sequence_length=seqlen)\n",
    "\n",
    "    # When performing dynamic calculation, we must retrieve the last\n",
    "    # dynamically computed output, i.e., if a sequence length is 10, we need\n",
    "    # to retrieve the 10th output.\n",
    "    # However TensorFlow doesn't support advanced indexing yet, so we build\n",
    "    # a custom op that for each sample in batch size, get its length and\n",
    "    # get the corresponding relevant output.\n",
    "\n",
    "    # 'outputs' is a list of output at every timestep, we pack them in a Tensor\n",
    "    # and change back dimension to [batch_size, n_step, n_input]\n",
    "    outputs = tf.stack(outputs)\n",
    "    outputs = tf.transpose(outputs, [1, 0, 2])\n",
    "\n",
    "    # Hack to build the indexing and retrieve the right output.\n",
    "    batch_size = tf.shape(outputs)[0]\n",
    "    # Start indices for each sample\n",
    "    index = tf.range(0, batch_size) * seq_max_len + (seqlen - 1)\n",
    "    # Indexing\n",
    "    outputs = tf.gather(tf.reshape(outputs, [-1, n_hidden]), index)\n",
    "\n",
    "    # Linear activation, using outputs computed above\n",
    "    return tf.matmul(outputs, weights['out']) + biases['out']"
   ]
  },
  {
   "cell_type": "code",
   "execution_count": null,
   "metadata": {},
   "outputs": [],
   "source": [
    "tf_session = keras.backend.get_session()\n",
    "tf_graph = tf.get_default_graph()\n",
    "# tf.reset_default_graph()\n",
    "print([n.name for n in tf.get_default_graph().as_graph_def().node])\n",
    "# tf.contrib.rnn.reset_states()\n",
    "# with tf_session.as_default():\n",
    "#      with tf_graph.as_default():\n",
    "#             tf.reset_default_graph() \n",
    "pred = dynamicRNN(x, seqlen, weights, biases)\n",
    "\n",
    "# Define loss and optimizer\n",
    "cost = tf.reduce_mean(tf.nn.softmax_cross_entropy_with_logits(logits=pred, labels=y))\n",
    "optimizer = tf.train.GradientDescentOptimizer(learning_rate=learning_rate).minimize(cost)\n",
    "\n",
    "# Evaluate model\n",
    "correct_pred = tf.equal(tf.argmax(pred,1), tf.argmax(y,1))\n",
    "accuracy = tf.reduce_mean(tf.cast(correct_pred, tf.float32))\n",
    "\n",
    "# Initialize the variables (i.e. assign their default value)\n",
    "init = tf.global_variables_initializer()"
   ]
  },
  {
   "cell_type": "code",
   "execution_count": null,
   "metadata": {},
   "outputs": [],
   "source": [
    "with tf.Session() as sess:\n",
    "\n",
    "    # Run the initializer\n",
    "    sess.run(init)\n",
    "\n",
    "    for step in range(1, training_steps+1):\n",
    "#         batch_x, batch_y, batch_seqlen = trainset.next(batch_size)\n",
    "        rangelow = ((step-1)*batch_size)%(trainset.shape[0])\n",
    "        rangehigh = ((step)*batch_size)%(trainset.shape[0])\n",
    "        if(rangehigh==rangelow):\n",
    "            rangehigh=rangehigh-1\n",
    "        if(rangehigh<rangelow):\n",
    "            batch_x = np.append(trainset[rangelow:], trainset[:rangehigh])\n",
    "            batch_y = np.append(testset[rangelow:], testset[:rangehigh])\n",
    "        else:\n",
    "            batch_x = trainset[rangelow:rangehigh]\n",
    "            batch_y = testset[rangelow:rangehigh]\n",
    "        \n",
    "        batch_seqlen = []\n",
    "        for sample in trainset:\n",
    "            batch_seqlen.append(sample.shape[0])\n",
    "\n",
    "#         batch_seqlen = batch_seqlen.tolist()\n",
    "        print(type(batch_seqlen))\n",
    "        # Run optimization op (backprop)\n",
    "        sess.run(optimizer, feed_dict={x: batch_x, y: batch_y,\n",
    "                                       seqlen: batch_seqlen})\n",
    "        if step % display_step == 0 or step == 1:\n",
    "            # Calculate batch accuracy & loss\n",
    "            acc, loss = sess.run([accuracy, cost], feed_dict={x: batch_x, y: batch_y,\n",
    "                                                seqlen: batch_seqlen})\n",
    "            print(\"Step \" + str(step) + \", Minibatch Loss= \" + \\\n",
    "                  \"{:.6f}\".format(loss) + \", Training Accuracy= \" + \\\n",
    "                  \"{:.5f}\".format(acc))\n",
    "\n",
    "    print(\"Optimization Finished!\")\n",
    "\n",
    "    # Calculate accuracy\n",
    "    test_data = testset.data\n",
    "    test_label = testset.labels\n",
    "    test_seqlen = testset.seqlen\n",
    "    print(\"Testing Accuracy:\", \\\n",
    "        sess.run(accuracy, feed_dict={x: test_data, y: test_label,\n",
    "                                      seqlen: test_seqlen}))"
   ]
  },
  {
   "cell_type": "code",
   "execution_count": null,
   "metadata": {},
   "outputs": [],
   "source": [
    "class ToySequenceData(object):\n",
    "    \"\"\" Generate sequence of data with dynamic length.\n",
    "    This class generate samples for training:\n",
    "    - Class 0: linear sequences (i.e. [0, 1, 2, 3,...])\n",
    "    - Class 1: random sequences (i.e. [1, 3, 10, 7,...])\n",
    "\n",
    "    NOTICE:\n",
    "    We have to pad each sequence to reach 'max_seq_len' for TensorFlow\n",
    "    consistency (we cannot feed a numpy array with inconsistent\n",
    "    dimensions). The dynamic calculation will then be perform thanks to\n",
    "    'seqlen' attribute that records every actual sequence length.\n",
    "    \"\"\"\n",
    "    def __init__(self, n_samples=1000, max_seq_len=20, min_seq_len=3,\n",
    "                 max_value=1000):\n",
    "        self.data = []\n",
    "        self.labels = []\n",
    "        self.seqlen = []\n",
    "        for i in range(n_samples):\n",
    "            # Random sequence length\n",
    "            len = np.random.randint(min_seq_len, max_seq_len)\n",
    "            # Monitor sequence length for TensorFlow dynamic calculation\n",
    "            self.seqlen.append(len)\n",
    "            # Add a random or linear int sequence (50% prob)\n",
    "            if np.random.random() < .5:\n",
    "                # Generate a linear sequence\n",
    "                rand_start = np.random.randint(0, max_value - len)\n",
    "                s = [[float(i)/max_value] for i in\n",
    "                     range(rand_start, rand_start + len)]\n",
    "                # Pad sequence for dimension consistency\n",
    "                s += [[0.] for i in range(max_seq_len - len)]\n",
    "                self.data.append(s)\n",
    "                self.labels.append([1., 0.])\n",
    "            else:\n",
    "                # Generate a random sequence\n",
    "                s = [[float(np.random.randint(0, max_value))/max_value]\n",
    "                     for i in range(len)]\n",
    "                # Pad sequence for dimension consistency\n",
    "                s += [[0.] for i in range(max_seq_len - len)]\n",
    "                self.data.append(s)\n",
    "                self.labels.append([0., 1.])\n",
    "        self.batch_id = 0\n",
    "\n",
    "    def next(self, batch_size):\n",
    "        \"\"\" Return a batch of data. When dataset end is reached, start over.\n",
    "        \"\"\"\n",
    "        if self.batch_id == len(self.data):\n",
    "            self.batch_id = 0\n",
    "        batch_data = (self.data[self.batch_id:min(self.batch_id +\n",
    "                                                  batch_size, len(self.data))])\n",
    "        batch_labels = (self.labels[self.batch_id:min(self.batch_id +\n",
    "                                                  batch_size, len(self.data))])\n",
    "        batch_seqlen = (self.seqlen[self.batch_id:min(self.batch_id +\n",
    "                                                  batch_size, len(self.data))])\n",
    "        print(type(batch_seqlen[0]))\n",
    "        self.batch_id = min(self.batch_id + batch_size, len(self.data))\n",
    "        return batch_data, batch_labels, batch_seqlen"
   ]
  },
  {
   "cell_type": "code",
   "execution_count": null,
   "metadata": {},
   "outputs": [],
   "source": [
    "tr = ToySequenceData(n_samples=1000, max_seq_len=seq_max_len)\n",
    "te = ToySequenceData(n_samples=500, max_seq_len=seq_max_len)"
   ]
  },
  {
   "cell_type": "code",
   "execution_count": null,
   "metadata": {},
   "outputs": [],
   "source": [
    "b_x, b_y, b_seqlen = tr.next(100)"
   ]
  },
  {
   "cell_type": "code",
   "execution_count": null,
   "metadata": {},
   "outputs": [],
   "source": [
    "print((b_x))\n",
    "# print(batch_seqlen)"
   ]
  },
  {
   "cell_type": "code",
   "execution_count": null,
   "metadata": {},
   "outputs": [],
   "source": []
  }
 ],
 "metadata": {
  "kernelspec": {
   "display_name": "Python 3",
   "language": "python",
   "name": "python3"
  },
  "language_info": {
   "codemirror_mode": {
    "name": "ipython",
    "version": 3
   },
   "file_extension": ".py",
   "mimetype": "text/x-python",
   "name": "python",
   "nbconvert_exporter": "python",
   "pygments_lexer": "ipython3",
   "version": "3.6.6"
  }
 },
 "nbformat": 4,
 "nbformat_minor": 2
}
