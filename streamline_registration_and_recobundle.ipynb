{
 "cells": [
  {
   "cell_type": "code",
   "execution_count": 5,
   "metadata": {
    "collapsed": false
   },
   "outputs": [
    {
     "name": "stdout",
     "output_type": "stream",
     "text": [
      "Using matplotlib backend: Qt5Agg\n"
     ]
    }
   ],
   "source": [
    "import numpy as np\n",
    "import dipy\n",
    "from dipy.core.gradients import gradient_table\n",
    "from dipy.viz import actor, window, ui\n",
    "from dipy.viz import fvtk\n",
    "from nibabel.streamlines import load as load_trk\n",
    "from nibabel.streamlines import Tractogram\n",
    "from dipy.tracking.streamline import Streamlines\n",
    "from dipy.tracking import utils\n",
    "from dipy.viz.colormap import line_colors\n",
    "from dipy.segment.clustering import QuickBundles\n",
    "from dipy.tracking.streamline import streamline_near_roi\n",
    "from dipy.tracking.life import transform_streamlines\n",
    "import nibabel as nib\n",
    "from dipy.align.streamlinear import whole_brain_slr, slr_with_qb\n",
    "from dipy.segment.bundles import RecoBundles\n",
    "from dipy.io.image import load_nifti, save_nifti\n",
    "import os\n",
    "import glob \n",
    "from nibabel.streamlines import Field\n",
    "from nibabel.orientations import aff2axcodes\n",
    "%matplotlib"
   ]
  },
  {
   "cell_type": "code",
   "execution_count": 6,
   "metadata": {
    "collapsed": true
   },
   "outputs": [],
   "source": [
    "def show_streamlines(streamlines):\n",
    "    from dipy.viz import window, actor\n",
    "    ren = window.Renderer()\n",
    "    ren.add(actor.line(streamlines))\n",
    "    #window.record(ren, n_frames=10, out_path='masked_after.png', size=(600, 600))\n",
    "    window.show(ren)"
   ]
  },
  {
   "cell_type": "code",
   "execution_count": 11,
   "metadata": {
    "collapsed": true
   },
   "outputs": [],
   "source": [
    "def show_streamlines_two(streamlines, str1):\n",
    "    from dipy.viz import window, actor\n",
    "    ren = window.Renderer()\n",
    "    ren.add(actor.line(streamlines, colors=(1,1,1)))\n",
    "    ren.add(actor.line(str1))\n",
    "    #window.record(ren, n_frames=10, out_path='masked_after.png', size=(600, 600))\n",
    "    window.show(ren)"
   ]
  },
  {
   "cell_type": "code",
   "execution_count": 7,
   "metadata": {
    "collapsed": true
   },
   "outputs": [],
   "source": [
    "def save_trk_n(fname, streamlines, affine, vox_size=None, shape=None, header=None):\n",
    "    \"\"\" function Helper for saving trk files.\n",
    "\n",
    "    Parameters\n",
    "    ----------\n",
    "    fname : str\n",
    "        output trk filename\n",
    "    streamlines : list of 2D arrays\n",
    "        Each 2D array represents a sequence of 3D points (points, 3).\n",
    "    affine : array_like (4, 4)\n",
    "        The mapping from voxel coordinates to streamline points.\n",
    "    vox_size : array_like (3,)\n",
    "        The sizes of the voxels in the reference image.\n",
    "    shape : array, shape (dim,)\n",
    "        The shape of the reference image.\n",
    "    header : dict\n",
    "        header from a trk file\n",
    "\n",
    "    \"\"\"\n",
    "    if vox_size and shape:\n",
    "        if not isinstance(header, dict):\n",
    "            header = {}\n",
    "        header[Field.VOXEL_TO_RASMM] = affine.copy()\n",
    "        header[Field.VOXEL_SIZES] = vox_size\n",
    "        header[Field.DIMENSIONS] = shape\n",
    "        header[Field.VOXEL_ORDER] = \"\".join(aff2axcodes(affine))\n",
    "\n",
    "    tractogram = nib.streamlines.Tractogram(streamlines)\n",
    "    tractogram.affine_to_rasmm = affine\n",
    "    trk_file = nib.streamlines.TrkFile(tractogram, header=header)\n",
    "    nib.streamlines.save(trk_file, fname)\n",
    "\n",
    "\n",
    "def load_trk_(filename):\n",
    "    \"\"\" function Helper for Loading trk files.\n",
    "\n",
    "    Parameters\n",
    "    ----------\n",
    "    filename : str\n",
    "        input trk filename\n",
    "\n",
    "    Returns\n",
    "    -------\n",
    "    streamlines : list of 2D arrays\n",
    "        Each 2D array represents a sequence of 3D points (points, 3).\n",
    "    hdr : dict\n",
    "        header from a trk file\n",
    "\n",
    "    \"\"\"\n",
    "    trk_file = nib.streamlines.load(filename)\n",
    "    return trk_file.streamlines, trk_file.header"
   ]
  },
  {
   "cell_type": "code",
   "execution_count": 8,
   "metadata": {
    "collapsed": true
   },
   "outputs": [],
   "source": [
    "os.chdir('/home/bramsh/Desktop/scratch/MNI_space/whole_brain')\n",
    "brain=load_trk(\"whole_brain_MNI.trk\")\n",
    "whole_brain=brain.streamlines"
   ]
  },
  {
   "cell_type": "code",
   "execution_count": 9,
   "metadata": {
    "collapsed": false
   },
   "outputs": [],
   "source": [
    "#os.chdir('/home/bramsh/Desktop/scratch/MNI_space/CP_data/3106/3106_second')\n",
    "#mov_file = load_trk(\"3106_second_streamlines.trk\")\n",
    "\n",
    "mov_file = load_trk(\"/home/bramsh/Desktop/scratch/3104_first_streamlines_small.trk\")\n",
    "moving = mov_file.streamlines"
   ]
  },
  {
   "cell_type": "code",
   "execution_count": 10,
   "metadata": {
    "collapsed": false
   },
   "outputs": [
    {
     "name": "stdout",
     "output_type": "stream",
     "text": [
      "Progressive Registration is Enabled\n",
      " Translation  (3 parameters)...\n",
      " Rigid  (6 parameters) ...\n",
      " Similarity (7 parameters) ...\n",
      " Scaling (9 parameters) ...\n",
      " Affine (12 parameters) ...\n"
     ]
    }
   ],
   "source": [
    "mov_slr , affine ,_ ,_ = whole_brain_slr(whole_brain, moving)"
   ]
  },
  {
   "cell_type": "code",
   "execution_count": 12,
   "metadata": {
    "collapsed": false
   },
   "outputs": [
    {
     "name": "stderr",
     "output_type": "stream",
     "text": [
      "/home/bramsh/dipy/dipy/viz/colormap.py:233: RuntimeWarning: invalid value encountered in true_divide\n",
      "  orient = np.abs(orient / np.linalg.norm(orient))\n"
     ]
    }
   ],
   "source": [
    "show_streamlines_two(whole_brain, mov_slr)"
   ]
  },
  {
   "cell_type": "code",
   "execution_count": 8,
   "metadata": {
    "collapsed": false
   },
   "outputs": [],
   "source": [
    "os.chdir('/home/bramsh/Desktop/scratch/MNI_space/CP_data/3106/3106_second')\n",
    "file = \"denoised_3106_second.nii.gz\"\n",
    "img = nib.load(file)\n",
    "data, data_affine = load_nifti(file)\n",
    "volume= data.shape[:3]\n",
    "voxel= img.header.get_zooms()[:3]\n",
    "save_trk_n(  file[9:len(file)-7]+'_to_MNI_space.trk', mov_slr, affine=data_affine, vox_size=voxel, shape=volume, header=img.header)"
   ]
  },
  {
   "cell_type": "code",
   "execution_count": 7,
   "metadata": {
    "collapsed": false
   },
   "outputs": [],
   "source": [
    "#try\n",
    "'''os.chdir('/home/bramsh/Desktop/scratch/MNI_space/CP_data/3104_first')\n",
    "file = '3104_first_to_MNI_space.trk'\n",
    "mov_file = load_trk(file)\n",
    "mov_stream = mov_file.streamlines'''"
   ]
  },
  {
   "cell_type": "code",
   "execution_count": 15,
   "metadata": {
    "collapsed": false
   },
   "outputs": [
    {
     "name": "stderr",
     "output_type": "stream",
     "text": [
      "/home/bramsh/dipy/dipy/viz/colormap.py:233: RuntimeWarning: invalid value encountered in true_divide\n",
      "  orient = np.abs(orient / np.linalg.norm(orient))\n"
     ]
    }
   ],
   "source": [
    "show_streamlines(mov_stream)"
   ]
  },
  {
   "cell_type": "code",
   "execution_count": 9,
   "metadata": {
    "collapsed": false
   },
   "outputs": [],
   "source": [
    "mov_stream = Streamlines(mov_slr)"
   ]
  },
  {
   "cell_type": "code",
   "execution_count": 10,
   "metadata": {
    "collapsed": false
   },
   "outputs": [
    {
     "name": "stdout",
     "output_type": "stream",
     "text": [
      "# Cluster streamlines using QBx\n",
      " Tractogram has 1969260 streamlines\n",
      " Size is 3654.752 MB\n",
      " Distance threshold 15.000\n",
      " Resampled to 20 points\n",
      " Size is 901.456 MB\n",
      " Duration of resampling is 1.746 sec.\n",
      " QBX phase starting...\n",
      " Merging phase starting ...\n",
      " QuickBundlesX time for 1969260 random streamlines\n",
      " Duration 73.179 sec. \n",
      "\n",
      " Streamlines have 4137 centroids\n",
      " Total duration 74.927 sec. \n",
      "\n"
     ]
    }
   ],
   "source": [
    "my_tract = RecoBundles(mov_stream )"
   ]
  },
  {
   "cell_type": "code",
   "execution_count": 11,
   "metadata": {
    "collapsed": false
   },
   "outputs": [
    {
     "name": "stdout",
     "output_type": "stream",
     "text": [
      "['ICP_R.trk', 'CNII_R.trk', 'ILF_L.trk', 'CS_R.trk', 'CNIII_L.trk', 'RST_L.trk', 'UF_L.trk', 'EMC_R.trk', 'PC.trk', 'CST_R.trk', 'CNVII_L.trk', 'ILF_R.trk', 'DLF_R.trk', 'STT_R.trk', 'OPT_R.trk', 'U_R.trk', 'F_R.trk', 'CT_R.trk', 'CTT_L.trk', 'SLF_L.trk', 'OPT_L.trk', 'VOF_R.trk', 'UF_R.trk', 'MLF_L.trk', 'FPT_L.trk', 'TPT_L.trk', 'U_L.trk', 'AC.trk', 'CNVIII_R.trk', 'AST_L.trk', 'CB_R.trk', 'CNII_L.trk', 'CNVIII_L.trk', 'EMC_L.trk', 'OR_L.trk', 'MLF_R.trk', 'CNIV_R.trk', 'IFOF_R.trk', 'MCP.trk', 'STT_L.trk', 'CST_L.trk', 'ML_R.trk', 'CC.trk', 'CS_L.trk', 'RST_R.trk', 'MdLF_R.trk', 'DLF_L.trk', 'PPT_R.trk', 'CNVII_R.trk', 'TPT_R.trk', 'V.trk', 'C_L.trk', 'AR_R.trk', 'IFOF_L.trk', 'SCP.trk', 'CTT_R.trk', 'ML_L.trk', 'PPT_L.trk', 'MdLF_L.trk', 'OR_R.trk', 'LL_L.trk', 'AST_R.trk', 'ICP_L.trk', 'CB_L.trk', 'AR_L.trk', 'AF_L.trk', 'AF_L_1.trk', 'CNV_R.trk', 'CNIII_R.trk', 'C_R.trk', 'CT_L.trk', 'FPT_R.trk', 'SLF_R.trk', 'LL_R.trk', 'F_L.trk', 'CNV_L.trk', 'AF_R.trk', 'CNIV_L.trk', 'VOF_L.trk']\n"
     ]
    }
   ],
   "source": [
    "#load files\n",
    "os.chdir(\"/home/bramsh/Desktop/scratch/MNI_space/bundles\")\n",
    "all_files = list(glob.glob('*.trk'))                                      \n",
    "print(all_files)"
   ]
  },
  {
   "cell_type": "code",
   "execution_count": 12,
   "metadata": {
    "collapsed": false
   },
   "outputs": [],
   "source": [
    "file = \"3106_second\"\n",
    "all_files = ['AF_R.trk', 'AF_L.trk', 'CST_R.trk', 'CST_L.trk']"
   ]
  },
  {
   "cell_type": "code",
   "execution_count": 13,
   "metadata": {
    "collapsed": false
   },
   "outputs": [
    {
     "name": "stdout",
     "output_type": "stream",
     "text": [
      "## Recognize given bundle ## \n",
      "\n",
      "# Cluster model bundle using QBx\n",
      " Model bundle has 1145 streamlines\n",
      " Distance threshold 5.000\n",
      " Resampled to 20 points\n",
      " Size is 0.262 MB\n",
      " Duration of resampling is 0.002 sec.\n",
      " QBX phase starting...\n",
      " Merging phase starting ...\n",
      " QuickBundlesX time for 500000 random streamlines\n",
      " Duration 0.014 sec. \n",
      "\n",
      " Model bundle has 5 centroids\n",
      " Duration 0.016 sec. \n",
      "\n",
      "# Reduce search space\n",
      " Reduction threshold 20.000\n",
      " Reduction distance mdf\n",
      " Using MDF\n",
      " Number of neighbor streamlines 16190\n",
      " Duration 0.098 sec. \n",
      "\n",
      "# Local SLR of neighb_streamlines to model\n",
      " Square-root of BMD is 12.106\n",
      " Number of iterations 49\n",
      " Matrix size (400, 600)\n",
      "[[  0.954   0.122   0.295  -4.149]\n",
      " [ -0.044   0.972  -0.258  -1.75 ]\n",
      " [ -0.316   0.231   0.927  22.219]\n",
      " [  0.      0.      0.      1.   ]]\n",
      "[ -0.054  -9.751   7.016  14.019  18.324  -2.657   1.006]\n",
      " Duration 17.910 sec. \n",
      "\n",
      "# Prune streamlines using the MDF distance\n",
      " Pruning threshold 10.000\n",
      " Pruning distance mdf\n",
      " Resampled to 20 points\n",
      " Size is 7.411 MB\n",
      " Duration of resampling is 0.017 sec.\n",
      " QBX phase starting...\n",
      " Merging phase starting ...\n",
      " QuickBundlesX time for 500000 random streamlines\n",
      " Duration 0.473 sec. \n",
      "\n",
      " QB Duration 0.490 sec. \n",
      "\n",
      " Using MDF\n",
      " Pruning matrix size is (5, 584)\n",
      " Number of centroids: 584\n",
      " Number of streamlines after pruning: 1501\n",
      " Duration 0.498 sec. \n",
      "\n",
      "Total duration of recognition time is 18.523 sec.\n",
      "\n",
      "********* saving trk file ************\n",
      "AF_R.trk\n",
      "********* saving labels file ************\n",
      "## Recognize given bundle ## \n",
      "\n",
      "# Cluster model bundle using QBx\n",
      " Model bundle has 2358 streamlines\n",
      " Distance threshold 5.000\n",
      " Resampled to 20 points\n",
      " Size is 0.540 MB\n",
      " Duration of resampling is 0.004 sec.\n",
      " QBX phase starting...\n",
      " Merging phase starting ...\n",
      " QuickBundlesX time for 500000 random streamlines\n",
      " Duration 0.032 sec. \n",
      "\n",
      " Model bundle has 13 centroids\n",
      " Duration 0.037 sec. \n",
      "\n",
      "# Reduce search space\n",
      " Reduction threshold 20.000\n",
      " Reduction distance mdf\n",
      " Using MDF\n",
      " Number of neighbor streamlines 32937\n",
      " Duration 0.189 sec. \n",
      "\n",
      "# Local SLR of neighb_streamlines to model\n",
      " Square-root of BMD is 10.050\n",
      " Number of iterations 61\n",
      " Matrix size (400, 600)\n",
      "[[ 0.992 -0.012 -0.086  1.854]\n",
      " [ 0.03   0.972  0.213 -0.405]\n",
      " [ 0.081 -0.215  0.969  0.094]\n",
      " [ 0.     0.     0.     1.   ]]\n",
      "[ -1.102   1.573   4.481 -12.505  -4.663   1.758   0.996]\n",
      " Duration 21.664 sec. \n",
      "\n",
      "# Prune streamlines using the MDF distance\n",
      " Pruning threshold 10.000\n",
      " Pruning distance mdf\n",
      " Resampled to 20 points\n",
      " Size is 15.077 MB\n",
      " Duration of resampling is 0.028 sec.\n",
      " QBX phase starting...\n",
      " Merging phase starting ...\n",
      " QuickBundlesX time for 500000 random streamlines\n",
      " Duration 1.475 sec. \n",
      "\n",
      " QB Duration 1.504 sec. \n",
      "\n",
      " Using MDF\n",
      " Pruning matrix size is (13, 1266)\n",
      " Number of centroids: 1266\n",
      " Number of streamlines after pruning: 7505\n",
      " Duration 1.538 sec. \n",
      "\n",
      "Total duration of recognition time is 23.428 sec.\n",
      "\n",
      "********* saving trk file ************\n",
      "AF_L.trk\n",
      "********* saving labels file ************\n",
      "## Recognize given bundle ## \n",
      "\n",
      "# Cluster model bundle using QBx\n",
      " Model bundle has 2470 streamlines\n",
      " Distance threshold 5.000\n",
      " Resampled to 20 points\n",
      " Size is 0.565 MB\n",
      " Duration of resampling is 0.003 sec.\n",
      " QBX phase starting...\n",
      " Merging phase starting ...\n",
      " QuickBundlesX time for 500000 random streamlines\n",
      " Duration 0.032 sec. \n",
      "\n",
      " Model bundle has 10 centroids\n",
      " Duration 0.035 sec. \n",
      "\n",
      "# Reduce search space\n",
      " Reduction threshold 20.000\n",
      " Reduction distance mdf\n",
      " Using MDF\n",
      " Number of neighbor streamlines 60424\n",
      " Duration 0.381 sec. \n",
      "\n",
      "# Local SLR of neighb_streamlines to model\n",
      " Square-root of BMD is 9.410\n",
      " Number of iterations 60\n",
      " Matrix size (400, 600)\n",
      "[[ 0.899 -0.005  0.054  5.219]\n",
      " [ 0.014  0.888 -0.15  -0.527]\n",
      " [-0.053  0.151  0.887  3.856]\n",
      " [ 0.     0.     0.     1.   ]]\n",
      "[ 0.507 -3.942  5.959  9.661  3.349  0.882  0.901]\n",
      " Duration 24.061 sec. \n",
      "\n",
      "# Prune streamlines using the MDF distance\n",
      " Pruning threshold 10.000\n",
      " Pruning distance mdf\n",
      " Resampled to 20 points\n",
      " Size is 27.660 MB\n",
      " Duration of resampling is 0.069 sec.\n",
      " QBX phase starting...\n",
      " Merging phase starting ...\n",
      " QuickBundlesX time for 500000 random streamlines\n",
      " Duration 2.451 sec. \n",
      "\n",
      " QB Duration 2.521 sec. \n",
      "\n",
      " Using MDF\n",
      " Pruning matrix size is (10, 1579)\n",
      " Number of centroids: 1579\n",
      " Number of streamlines after pruning: 19785\n",
      " Duration 2.597 sec. \n",
      "\n",
      "Total duration of recognition time is 27.075 sec.\n",
      "\n",
      "********* saving trk file ************\n",
      "CST_R.trk\n",
      "********* saving labels file ************\n",
      "## Recognize given bundle ## \n",
      "\n",
      "# Cluster model bundle using QBx\n",
      " Model bundle has 2528 streamlines\n",
      " Distance threshold 5.000\n",
      " Resampled to 20 points\n",
      " Size is 0.579 MB\n",
      " Duration of resampling is 0.004 sec.\n",
      " QBX phase starting...\n",
      " Merging phase starting ...\n",
      " QuickBundlesX time for 500000 random streamlines\n",
      " Duration 0.035 sec. \n",
      "\n",
      " Model bundle has 11 centroids\n",
      " Duration 0.039 sec. \n",
      "\n",
      "# Reduce search space\n",
      " Reduction threshold 20.000\n",
      " Reduction distance mdf\n",
      " Using MDF\n",
      " Number of neighbor streamlines 50720\n",
      " Duration 0.363 sec. \n",
      "\n",
      "# Local SLR of neighb_streamlines to model\n",
      " Square-root of BMD is 8.265\n",
      " Number of iterations 29\n",
      " Matrix size (400, 600)\n",
      "[[ 0.968 -0.01  -0.062 -1.523]\n",
      " [ 0.007  0.969 -0.042  1.092]\n",
      " [ 0.062  0.042  0.967 -0.65 ]\n",
      " [ 0.     0.     0.     1.   ]]\n",
      "[ 0.851 -1.8    4.48   2.473 -3.661  0.431  0.97 ]\n",
      " Duration 9.972 sec. \n",
      "\n",
      "# Prune streamlines using the MDF distance\n",
      " Pruning threshold 10.000\n",
      " Pruning distance mdf\n",
      " Resampled to 20 points\n",
      " Size is 23.218 MB\n",
      " Duration of resampling is 0.059 sec.\n",
      " QBX phase starting...\n",
      " Merging phase starting ...\n",
      " QuickBundlesX time for 500000 random streamlines\n",
      " Duration 2.630 sec. \n",
      "\n",
      " QB Duration 2.690 sec. \n",
      "\n",
      " Using MDF\n",
      " Pruning matrix size is (11, 1957)\n",
      " Number of centroids: 1957\n",
      " Number of streamlines after pruning: 17352\n",
      " Duration 2.762 sec. \n",
      "\n",
      "Total duration of recognition time is 13.137 sec.\n",
      "\n",
      "********* saving trk file ************\n",
      "CST_L.trk\n",
      "********* saving labels file ************\n"
     ]
    }
   ],
   "source": [
    "for i in range(len(all_files)):\n",
    "    b=load_trk(all_files[i])\n",
    "    bundle=b.streamlines\n",
    "    reco_bundle, labels, pruned = my_tract.recognize(bundle, model_clust_thr=5)\n",
    "    #an other slr\n",
    "    #show_streamlines(reco_bundle)\n",
    "    \n",
    "    '''slr_reco_bundle, slr_affine, _, _ = slr_with_qb(bundle, pruned, \"affine\", rm_small_clusters=2, \n",
    "                          greater_than=0, less_than=np.Inf, qb_thr=0.5)'''\n",
    "    \n",
    "    #original affine for saving????\n",
    "    \n",
    "    \n",
    "    os.chdir(\"/home/bramsh/Desktop/scratch/MNI_space/CP_data/3106/3106_second/bundles\")\n",
    "    print(\"********* saving trk file ************\")\n",
    "    print(all_files[i])\n",
    "    save_trk_n(file+'_'+all_files[i][0:len(all_files[i])], pruned, affine=np.eye(4), vox_size=voxel, shape=volume)\n",
    "    print(\"********* saving labels file ************\")\n",
    "    np.save(file+'_'+all_files[i][0:len(all_files[i])-4]+\"_labels\", labels)\n",
    "    os.chdir(\"/home/bramsh/Desktop/scratch/MNI_space/bundles\")"
   ]
  },
  {
   "cell_type": "code",
   "execution_count": 1,
   "metadata": {
    "collapsed": false
   },
   "outputs": [
    {
     "data": {
      "text/plain": [
       "0"
      ]
     },
     "execution_count": 1,
     "metadata": {},
     "output_type": "execute_result"
    }
   ],
   "source": [
    "0"
   ]
  },
  {
   "cell_type": "code",
   "execution_count": 13,
   "metadata": {
    "collapsed": true
   },
   "outputs": [],
   "source": [
    "show_streamlines(pruned)"
   ]
  },
  {
   "cell_type": "code",
   "execution_count": 14,
   "metadata": {
    "collapsed": true
   },
   "outputs": [],
   "source": [
    "show_streamlines(reco_bundle)"
   ]
  },
  {
   "cell_type": "code",
   "execution_count": 15,
   "metadata": {
    "collapsed": true
   },
   "outputs": [],
   "source": [
    "def show_streamlines_two(streamlines, str1):\n",
    "    from dipy.viz import window, actor\n",
    "    ren = window.Renderer()\n",
    "    ren.add(actor.line(streamlines, colors=(1,1,1)))\n",
    "    ren.add(actor.line(str1))\n",
    "    #window.record(ren, n_frames=10, out_path='masked_after.png', size=(600, 600))\n",
    "    window.show(ren)"
   ]
  },
  {
   "cell_type": "code",
   "execution_count": 17,
   "metadata": {
    "collapsed": false
   },
   "outputs": [],
   "source": [
    "show_streamlines_two(pruned, reco_bundle)"
   ]
  },
  {
   "cell_type": "code",
   "execution_count": 37,
   "metadata": {
    "collapsed": false
   },
   "outputs": [
    {
     "name": "stdout",
     "output_type": "stream",
     "text": [
      "Progressive Registration is Enabled\n",
      " Translation  (3 parameters)...\n",
      " Rigid  (6 parameters) ...\n",
      " Similarity (7 parameters) ...\n",
      " Scaling (9 parameters) ...\n",
      " Affine (12 parameters) ...\n"
     ]
    }
   ],
   "source": [
    "slr_reco_bundle, slr_affine, _, _ = slr_with_qb(bundle, pruned, \"affine\", rm_small_clusters=2, \n",
    "                          greater_than=0, less_than=np.Inf, qb_thr=0.5)"
   ]
  },
  {
   "cell_type": "code",
   "execution_count": 31,
   "metadata": {
    "collapsed": true
   },
   "outputs": [],
   "source": [
    "os.chdir('/home/bramsh/Desktop/scratch/MNI_space/p_data/3105_first/bundles')\n",
    "file = '3105_first_CST_L.trk'\n",
    "org=load_trk(file)\n",
    "streamlines_org=org.streamlines\n"
   ]
  },
  {
   "cell_type": "code",
   "execution_count": 32,
   "metadata": {
    "collapsed": true
   },
   "outputs": [],
   "source": [
    "show_streamlines_two(streamlines_org, bundle)"
   ]
  },
  {
   "cell_type": "code",
   "execution_count": 11,
   "metadata": {
    "collapsed": true
   },
   "outputs": [],
   "source": [
    "slr_with_qb?"
   ]
  },
  {
   "cell_type": "code",
   "execution_count": null,
   "metadata": {
    "collapsed": true
   },
   "outputs": [],
   "source": []
  }
 ],
 "metadata": {
  "anaconda-cloud": {},
  "kernelspec": {
   "display_name": "Python [default]",
   "language": "python",
   "name": "python3"
  },
  "language_info": {
   "codemirror_mode": {
    "name": "ipython",
    "version": 3
   },
   "file_extension": ".py",
   "mimetype": "text/x-python",
   "name": "python",
   "nbconvert_exporter": "python",
   "pygments_lexer": "ipython3",
   "version": "3.5.2"
  }
 },
 "nbformat": 4,
 "nbformat_minor": 1
}
